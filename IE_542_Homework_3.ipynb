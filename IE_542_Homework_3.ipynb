{
  "nbformat": 4,
  "nbformat_minor": 0,
  "metadata": {
    "colab": {
      "name": "IE 542 Homework 3",
      "provenance": [],
      "collapsed_sections": [],
      "authorship_tag": "ABX9TyOMCu5f0GCqNqTw1cV7I4ao",
      "include_colab_link": true
    },
    "kernelspec": {
      "name": "python3",
      "display_name": "Python 3"
    }
  },
  "cells": [
    {
      "cell_type": "markdown",
      "metadata": {
        "id": "view-in-github",
        "colab_type": "text"
      },
      "source": [
        "<a href=\"https://colab.research.google.com/github/jdrake13/IE-542/blob/main/IE_542_Homework_3.ipynb\" target=\"_parent\"><img src=\"https://colab.research.google.com/assets/colab-badge.svg\" alt=\"Open In Colab\"/></a>"
      ]
    },
    {
      "cell_type": "code",
      "metadata": {
        "id": "XNxmmBQ984Ob"
      },
      "source": [
        "import numpy as np\r\n",
        "import matplotlib.pyplot as plt\r\n",
        "from scipy.stats import t\r\n",
        "from scipy.stats import f\r\n",
        "from sklearn import linear_model\r\n",
        "from sklearn.metrics import mean_squared_error, r2_score\r\n",
        "from sklearn import datasets\r\n",
        "\r\n",
        "import pandas as pd"
      ],
      "execution_count": 76,
      "outputs": []
    },
    {
      "cell_type": "code",
      "metadata": {
        "id": "yQACUCaK-jcS"
      },
      "source": [
        "PATH=\"https://raw.githubusercontent.com/jdrake13/IE-542/main/IE542_Homework%203%20data.csv\"\r\n",
        "df = pd.read_csv(PATH)"
      ],
      "execution_count": 77,
      "outputs": []
    },
    {
      "cell_type": "code",
      "metadata": {
        "colab": {
          "base_uri": "https://localhost:8080/"
        },
        "id": "1EkGN4fQBPa-",
        "outputId": "c2dee157-44ed-447b-eb80-a1df2bf3208d"
      },
      "source": [
        "print(df)"
      ],
      "execution_count": 78,
      "outputs": [
        {
          "output_type": "stream",
          "text": [
            "   Level1  Level2  Level3\n",
            "0     5.7     5.9     4.7\n",
            "1     6.5     5.2     4.1\n",
            "2     6.1     4.6     4.0\n",
            "3     5.6     6.8     3.7\n",
            "4     4.3     4.4     5.6\n",
            "5     6.1     6.0     6.2\n",
            "6     6.8     5.7     4.0\n",
            "7     3.5     6.3     4.6\n",
            "8     6.1     5.2     6.1\n"
          ],
          "name": "stdout"
        }
      ]
    },
    {
      "cell_type": "code",
      "metadata": {
        "colab": {
          "base_uri": "https://localhost:8080/"
        },
        "id": "mJoS4M4fI_9g",
        "outputId": "b02074d3-88c6-4d75-e5d6-975e47a6c42f"
      },
      "source": [
        "#Problem 2\r\n",
        "Level1=np.array(df.Level1)\r\n",
        "Level2=np.array(df.Level2)\r\n",
        "Level3=np.array(df.Level3)\r\n",
        "mean1=np.mean(Level1)\r\n",
        "mean2=np.mean(Level2)\r\n",
        "mean3=np.mean(Level3)\r\n",
        "y=np.mean((Level1+Level2+Level3)/3)\r\n",
        "print(y)"
      ],
      "execution_count": 79,
      "outputs": [
        {
          "output_type": "stream",
          "text": [
            "5.3259258889259256\n"
          ],
          "name": "stdout"
        }
      ]
    },
    {
      "cell_type": "code",
      "metadata": {
        "id": "dqqiOFzZRsEg"
      },
      "source": [
        "#if you need to import the data from files\n",
        "lorenz_data = np.loadtxt('IE 542_Homework 2_Dataset.txt')\n",
        "\n",
        "X=lorenz_data[:,0:3]\n",
        "Y=lorenz_data[:,3:6]"
      ],
      "execution_count": 80,
      "outputs": []
    },
    {
      "cell_type": "code",
      "metadata": {
        "colab": {
          "base_uri": "https://localhost:8080/"
        },
        "id": "VnBjMSF2RsEh",
        "outputId": "e9aa776b-71c5-4361-bcc7-3c1d6281cd2d"
      },
      "source": [
        "\n",
        "\n",
        "mean_X = np.mean(X)\n",
        "mean_y1 = np.mean(Y[:,0])\n",
        "std_X_2 = np.std(X[1])\n",
        "\n",
        "print('X mean: %.8f' % mean_X)\n",
        "print('mean of the first column of Y: %.8f' % mean_y1)\n",
        "print('standard deviation of second row of X: %.8f' % std_X_2)"
      ],
      "execution_count": 81,
      "outputs": [
        {
          "output_type": "stream",
          "text": [
            "X mean: 7.64118870\n",
            "mean of the first column of Y: -10.34098627\n",
            "standard deviation of second row of X: 0.38456460\n"
          ],
          "name": "stdout"
        }
      ]
    },
    {
      "cell_type": "code",
      "metadata": {
        "colab": {
          "base_uri": "https://localhost:8080/"
        },
        "id": "azQ5ICsPVVNR",
        "outputId": "6c599398-5851-4917-bcb4-0a00f5d2fc1f"
      },
      "source": [
        "#least squares for multiple linear regression\r\n",
        "#take the last 40 data points as the test data\r\n",
        "#the rest are training data\r\n",
        "X_train = X[:-20]\r\n",
        "X_test = X[-20:]\r\n",
        "\r\n",
        "y_train = Y[:-20,0]\r\n",
        "y_test = Y[-20:,0]\r\n",
        "\r\n",
        "ls_all = linear_model.LinearRegression()\r\n",
        "ls_all.fit(X_train, y_train)\r\n",
        "\r\n",
        "#print all the coefficients\r\n",
        "print(ls_all.coef_) #these are beta1 to beta10\r\n",
        "print(ls_all.intercept_) #this is beta0\r\n",
        "\r\n",
        "\r\n",
        "#########################################################\r\n",
        "#test the model on the test dataset\r\n",
        "y_predict = ls_all.predict(X_test)\r\n",
        "\r\n",
        "#mean squared error and R squared on the test data\r\n",
        "print('Mean suqared error:%.2f'\r\n",
        "     %mean_squared_error(y_test,y_predict))\r\n",
        "print('R squared:%.2f'\r\n",
        "     %r2_score(y_test,y_predict))"
      ],
      "execution_count": 82,
      "outputs": [
        {
          "output_type": "stream",
          "text": [
            "[-1.00000000e+01  1.00000000e+01 -2.00550687e-11]\n",
            "2.8431106358084435e-09\n",
            "Mean suqared error:0.00\n",
            "R squared:1.00\n"
          ],
          "name": "stdout"
        }
      ]
    },
    {
      "cell_type": "code",
      "metadata": {
        "id": "fHEcPSYVm91N",
        "colab": {
          "base_uri": "https://localhost:8080/"
        },
        "outputId": "d2194431-1681-46d4-c491-1804f7bd9b37"
      },
      "source": [
        "#Problem 3\r\n",
        "#least squares\r\n",
        "\r\n",
        "X, y = datasets.load_diabetes(return_X_y=True)\r\n",
        "# this loads the diabetes data as #X is the input matrix as in the slides, and y is the output vector\r\n",
        "\r\n",
        "\r\n",
        "n = X.shape[0]      # number of training samples\r\n",
        "p = X.shape[1]      # number of features\r\n",
        "\r\n",
        "#reconstruct the X matrix to include the constant\r\n",
        "X_test = X[-20:]\r\n",
        "\r\n",
        "\r\n",
        "#least squares\r\n",
        "model = linear_model.LinearRegression(fit_intercept = False)\r\n",
        "model.fit(X_test,y_test)\r\n",
        "\r\n",
        "print(model.coef_)\r\n",
        "\r\n",
        "y_predict = model.predict(X_test)\r\n",
        "\r\n",
        "#mean squared error and R squared\r\n",
        "print('Mean suqared error:%.2f'\r\n",
        "     %mean_squared_error(y_test,y_predict))\r\n",
        "print('R squared:%.2f'\r\n",
        "     %r2_score(y_test,y_predict))\r\n",
        "print(y_predict)"
      ],
      "execution_count": 97,
      "outputs": [
        {
          "output_type": "stream",
          "text": [
            "[  169.02748393    56.11796376    35.70038988  -176.9805276\n",
            "  2552.37678937 -2160.32492285  -952.02181712   -95.40169717\n",
            "  -726.62317554  -142.67535224]\n",
            "Mean suqared error:20.80\n",
            "R squared:0.18\n",
            "[ -9.72854429  -8.75191845  -6.7295201   -8.44873612 -15.30057946\n",
            " -14.52168744  -3.11902196  -4.26605723  -5.66802369  -1.37635144\n",
            "  -2.73021579  -2.20217833  -7.71307156  -0.60819467   2.17437782\n",
            "  -5.12154698  -0.92607998  -2.44512239  -4.26827551  -3.80949824]\n"
          ],
          "name": "stdout"
        }
      ]
    },
    {
      "cell_type": "code",
      "metadata": {
        "colab": {
          "base_uri": "https://localhost:8080/",
          "height": 316
        },
        "id": "PF3-1ZlAWojG",
        "outputId": "5e83a15a-c9a4-47f7-b382-a0317f00083d"
      },
      "source": [
        "#error normality\r\n",
        "\r\n",
        "error = y_predict - y_test\r\n",
        "err_mean = np.mean(error)\r\n",
        "err_std = np.std(error)\r\n",
        "\r\n",
        "print('Error mean: %.8f' % err_mean)\r\n",
        "print('Error std: %.8f' % err_std)\r\n",
        "\r\n",
        "plt.hist(error, bins = 50)\r\n",
        "plt.title('Error histogram')\r\n",
        "plt.show()"
      ],
      "execution_count": 101,
      "outputs": [
        {
          "output_type": "stream",
          "text": [
            "Error mean: 1.22038750\n",
            "Error std: 4.39421491\n"
          ],
          "name": "stdout"
        },
        {
          "output_type": "display_data",
          "data": {
            "image/png": "[encoded data removed]",
            "text/plain": [
              "<Figure size 432x288 with 1 Axes>"
            ]
          },
          "metadata": {
            "tags": [],
            "needs_background": "light"
          }
        }
      ]
    },
    {
      "cell_type": "code",
      "metadata": {
        "colab": {
          "base_uri": "https://localhost:8080/",
          "height": 1000
        },
        "id": "lB8QzWLQ8g0Q",
        "outputId": "ba9813c6-9219-42e8-fc49-f937397e9239"
      },
      "source": [
        "#hypothesis testing\r\n",
        "\r\n",
        "np.linalg.inv(np.dot(X_test.T, X_test)).shape\r\n",
        "\r\n",
        "\r\n",
        "# sigma square estimate is SSE/(m-p-1\r\n",
        "sigma_square_hat = np.linalg.norm(y_test - model.predict(X_test)) ** 2 / (n-p-1)\r\n",
        "\r\n",
        "\r\n",
        "var_beta_hat = sigma_square_hat * np.linalg.inv(np.dot(X_test.T, X_test))\r\n",
        "\r\n",
        "#define the alpha value\r\n",
        "alpha = 0.01\r\n",
        "\r\n",
        "#find more information of t distribution at https://docs.scipy.org/doc/scipy/reference/generated/scipy.stats.t.html\r\n",
        "t_alpha = t.isf(alpha, n - p - 1)\r\n",
        "t_half_alpha = t.isf(alpha/2, n - p - 1)\r\n",
        "print('t_0.01_n-2: %.8f' % t_alpha)\r\n",
        "print('t_0.01_n-2/2: %.8f' % t_half_alpha)\r\n",
        "\r\n",
        "print('\\n')\r\n",
        "\r\n",
        "\r\n",
        "for i in range(p+1):\r\n",
        "    print('beta_hat[%d]:%.8f' % (i, model.coef_[i]))\r\n",
        "    \r\n",
        "    #the diagonal value of the var_beta_hat\r\n",
        "    standard_error = var_beta_hat[i,i] ** 0.5   # standard error for beta_0 and beta_1, ** is to the power of\r\n",
        "    print(f\"Standard Error of (beta_hat[%d]): %.6f\" % (i, standard_error))\r\n",
        "    \r\n",
        "    t_value = model.coef_[i]/standard_error\r\n",
        "    print(f\"t_value of (beta_hat[{i}]): {t_value}\")\r\n",
        "   \r\n",
        "    #two-sided\r\n",
        "    #H1: beta_i neq 0\r\n",
        "    p_value_2 = 2 * (1 - t.cdf(np.abs(t_value), n-p-1))\r\n",
        "    print('p-value of H0: beta_%d = 0: %.8f' % (i, p_value_2))\r\n",
        "\r\n",
        "    #single-sided\r\n",
        "    #H1: beta_i < 0\r\n",
        "    p_value_1_less = t.cdf(t_value, n-p-1)\r\n",
        "    print('p-value of H0: beta_%d >= 0: %.8f' % (i, p_value_1_less))\r\n",
        "    \r\n",
        "    #H1: beta_i > 0\r\n",
        "    p_value_1_larger = 1 - t.cdf(t_value, n-p-1)\r\n",
        "    print('p-value of H0: beta_%d <= 0: %.8f' % (i, p_value_1_larger))\r\n",
        "    print('\\n')"
      ],
      "execution_count": 103,
      "outputs": [
        {
          "output_type": "stream",
          "text": [
            "t_0.01_n-2: 2.33503089\n",
            "t_0.01_n-2/2: 2.58728432\n",
            "\n",
            "\n",
            "beta_hat[0]:169.02748393\n",
            "Standard Error of (beta_hat[0]): 8.741570\n",
            "t_value of (beta_hat[0]): 19.336054882804415\n",
            "p-value of H0: beta_0 = 0: 0.00000000\n",
            "p-value of H0: beta_0 >= 0: 1.00000000\n",
            "p-value of H0: beta_0 <= 0: 0.00000000\n",
            "\n",
            "\n",
            "beta_hat[1]:56.11796376\n",
            "Standard Error of (beta_hat[1]): 7.959982\n",
            "t_value of (beta_hat[1]): 7.050011574500461\n",
            "p-value of H0: beta_1 = 0: 0.00000000\n",
            "p-value of H0: beta_1 >= 0: 1.00000000\n",
            "p-value of H0: beta_1 <= 0: 0.00000000\n",
            "\n",
            "\n",
            "beta_hat[2]:35.70038988\n",
            "Standard Error of (beta_hat[2]): 12.647283\n",
            "t_value of (beta_hat[2]): 2.822771551719314\n",
            "p-value of H0: beta_2 = 0: 0.00498150\n",
            "p-value of H0: beta_2 >= 0: 0.99750925\n",
            "p-value of H0: beta_2 <= 0: 0.00249075\n",
            "\n",
            "\n",
            "beta_hat[3]:-176.98052760\n",
            "Standard Error of (beta_hat[3]): 10.122910\n",
            "t_value of (beta_hat[3]): -17.483167136632687\n",
            "p-value of H0: beta_3 = 0: 0.00000000\n",
            "p-value of H0: beta_3 >= 0: 0.00000000\n",
            "p-value of H0: beta_3 <= 0: 1.00000000\n",
            "\n",
            "\n",
            "beta_hat[4]:2552.37678937\n",
            "Standard Error of (beta_hat[4]): 136.423061\n",
            "t_value of (beta_hat[4]): 18.709276607497635\n",
            "p-value of H0: beta_4 = 0: 0.00000000\n",
            "p-value of H0: beta_4 >= 0: 1.00000000\n",
            "p-value of H0: beta_4 <= 0: 0.00000000\n",
            "\n",
            "\n",
            "beta_hat[5]:-2160.32492285\n",
            "Standard Error of (beta_hat[5]): 113.855767\n",
            "t_value of (beta_hat[5]): -18.974224775068247\n",
            "p-value of H0: beta_5 = 0: 0.00000000\n",
            "p-value of H0: beta_5 >= 0: 0.00000000\n",
            "p-value of H0: beta_5 <= 0: 1.00000000\n",
            "\n",
            "\n",
            "beta_hat[6]:-952.02181712\n",
            "Standard Error of (beta_hat[6]): 56.485791\n",
            "t_value of (beta_hat[6]): -16.854182237820954\n",
            "p-value of H0: beta_6 = 0: 0.00000000\n",
            "p-value of H0: beta_6 >= 0: 0.00000000\n",
            "p-value of H0: beta_6 <= 0: 1.00000000\n",
            "\n",
            "\n",
            "beta_hat[7]:-95.40169717\n",
            "Standard Error of (beta_hat[7]): 21.261405\n",
            "t_value of (beta_hat[7]): -4.487083341322588\n",
            "p-value of H0: beta_7 = 0: 0.00000928\n",
            "p-value of H0: beta_7 >= 0: 0.00000464\n",
            "p-value of H0: beta_7 <= 0: 0.99999536\n",
            "\n",
            "\n",
            "beta_hat[8]:-726.62317554\n",
            "Standard Error of (beta_hat[8]): 38.538538\n",
            "t_value of (beta_hat[8]): -18.85445599471271\n",
            "p-value of H0: beta_8 = 0: 0.00000000\n",
            "p-value of H0: beta_8 >= 0: 0.00000000\n",
            "p-value of H0: beta_8 <= 0: 1.00000000\n",
            "\n",
            "\n",
            "beta_hat[9]:-142.67535224\n",
            "Standard Error of (beta_hat[9]): 6.966279\n",
            "t_value of (beta_hat[9]): -20.480855168617968\n",
            "p-value of H0: beta_9 = 0: 0.00000000\n",
            "p-value of H0: beta_9 >= 0: 0.00000000\n",
            "p-value of H0: beta_9 <= 0: 1.00000000\n",
            "\n",
            "\n"
          ],
          "name": "stdout"
        },
        {
          "output_type": "error",
          "ename": "IndexError",
          "evalue": "ignored",
          "traceback": [
            "\u001b[0;31m---------------------------------------------------------------------------\u001b[0m",
            "\u001b[0;31mIndexError\u001b[0m                                Traceback (most recent call last)",
            "\u001b[0;32m<ipython-input-103-76888ab516a2>\u001b[0m in \u001b[0;36m<module>\u001b[0;34m()\u001b[0m\n\u001b[1;32m     23\u001b[0m \u001b[0;34m\u001b[0m\u001b[0m\n\u001b[1;32m     24\u001b[0m \u001b[0;32mfor\u001b[0m \u001b[0mi\u001b[0m \u001b[0;32min\u001b[0m \u001b[0mrange\u001b[0m\u001b[0;34m(\u001b[0m\u001b[0mp\u001b[0m\u001b[0;34m+\u001b[0m\u001b[0;36m1\u001b[0m\u001b[0;34m)\u001b[0m\u001b[0;34m:\u001b[0m\u001b[0;34m\u001b[0m\u001b[0;34m\u001b[0m\u001b[0m\n\u001b[0;32m---> 25\u001b[0;31m     \u001b[0mprint\u001b[0m\u001b[0;34m(\u001b[0m\u001b[0;34m'beta_hat[%d]:%.8f'\u001b[0m \u001b[0;34m%\u001b[0m \u001b[0;34m(\u001b[0m\u001b[0mi\u001b[0m\u001b[0;34m,\u001b[0m \u001b[0mmodel\u001b[0m\u001b[0;34m.\u001b[0m\u001b[0mcoef_\u001b[0m\u001b[0;34m[\u001b[0m\u001b[0mi\u001b[0m\u001b[0;34m]\u001b[0m\u001b[0;34m)\u001b[0m\u001b[0;34m)\u001b[0m\u001b[0;34m\u001b[0m\u001b[0;34m\u001b[0m\u001b[0m\n\u001b[0m\u001b[1;32m     26\u001b[0m \u001b[0;34m\u001b[0m\u001b[0m\n\u001b[1;32m     27\u001b[0m     \u001b[0;31m#the diagonal value of the var_beta_hat\u001b[0m\u001b[0;34m\u001b[0m\u001b[0;34m\u001b[0m\u001b[0;34m\u001b[0m\u001b[0m\n",
            "\u001b[0;31mIndexError\u001b[0m: index 10 is out of bounds for axis 0 with size 10"
          ]
        }
      ]
    },
    {
      "cell_type": "code",
      "metadata": {
        "colab": {
          "base_uri": "https://localhost:8080/"
        },
        "id": "BL-ddUPjWwMO",
        "outputId": "afb17a02-87d7-4bf3-cf86-3c654809a3d3"
      },
      "source": [
        "#ANOVA for all coefficients\r\n",
        "import pandas as pd\r\n",
        "from statsmodels.stats.anova import anova_lm\r\n",
        "from statsmodels.formula.api import ols\r\n",
        "\r\n",
        "#see more information in https://www.statsmodels.org/stable/generated/statsmodels.stats.anova.anova_lm.html#statsmodels.stats.anova.anova_lm\r\n",
        "\r\n",
        "# Convert the data into a Pandas DataFrame to use the formulas framework\r\n",
        "# in statsmodels\r\n",
        "\r\n",
        "#ols automatically fit the intercept, so we use X\r\n",
        "\r\n",
        "\r\n",
        "data = pd.DataFrame({'x0': X[:,0],'x1': X[:,1],'x2': X[:,2],\r\n",
        "                     'y': y})\r\n",
        "\r\n",
        "# Fit the model\r\n",
        "model = ols(\"y ~ x0 + x1 + x2\", data).fit()\r\n",
        "\r\n",
        "# Print the summary\r\n",
        "print(model.summary())\r\n",
        "\r\n",
        "# Peform analysis of variance on fitted linear model\r\n",
        "anova_results = anova_lm(model)\r\n",
        "\r\n",
        "print('\\nANOVA results')\r\n",
        "print(anova_results)"
      ],
      "execution_count": 104,
      "outputs": [
        {
          "output_type": "stream",
          "text": [
            "/usr/local/lib/python3.7/dist-packages/statsmodels/tools/_testing.py:19: FutureWarning: pandas.util.testing is deprecated. Use the functions in the public API at pandas.testing instead.\n",
            "  import pandas.util.testing as tm\n"
          ],
          "name": "stderr"
        },
        {
          "output_type": "stream",
          "text": [
            "                            OLS Regression Results                            \n",
            "==============================================================================\n",
            "Dep. Variable:                      y   R-squared:                       0.351\n",
            "Model:                            OLS   Adj. R-squared:                  0.346\n",
            "Method:                 Least Squares   F-statistic:                     78.94\n",
            "Date:                Thu, 11 Mar 2021   Prob (F-statistic):           7.77e-41\n",
            "Time:                        00:40:22   Log-Likelihood:                -2451.6\n",
            "No. Observations:                 442   AIC:                             4911.\n",
            "Df Residuals:                     438   BIC:                             4928.\n",
            "Df Model:                           3                                         \n",
            "Covariance Type:            nonrobust                                         \n",
            "==============================================================================\n",
            "                 coef    std err          t      P>|t|      [0.025      0.975]\n",
            "------------------------------------------------------------------------------\n",
            "Intercept    152.1335      2.964     51.321      0.000     146.307     157.960\n",
            "x0           138.9039     64.254      2.162      0.031      12.618     265.189\n",
            "x1           -36.1353     63.391     -0.570      0.569    -160.724      88.453\n",
            "x2           926.9120     63.525     14.591      0.000     802.061    1051.763\n",
            "==============================================================================\n",
            "Omnibus:                       14.687   Durbin-Watson:                   1.851\n",
            "Prob(Omnibus):                  0.001   Jarque-Bera (JB):                8.290\n",
            "Skew:                           0.150   Prob(JB):                       0.0158\n",
            "Kurtosis:                       2.400   Cond. No.                         23.7\n",
            "==============================================================================\n",
            "\n",
            "Warnings:\n",
            "[1] Standard Errors assume that the covariance matrix of the errors is correctly specified.\n",
            "\n",
            "ANOVA results\n",
            "             df        sum_sq        mean_sq           F        PR(>F)\n",
            "x0          1.0  9.252734e+04   92527.342829   23.822118  1.482529e-06\n",
            "x1          1.0  2.933667e+02     293.366704    0.075530  7.835782e-01\n",
            "x2          1.0  8.269553e+05  826955.273690  212.908155  1.391953e-39\n",
            "Residual  438.0  1.701233e+06    3884.093930         NaN           NaN\n"
          ],
          "name": "stdout"
        }
      ]
    },
    {
      "cell_type": "code",
      "metadata": {
        "id": "s-AENOjMW3NZ",
        "colab": {
          "base_uri": "https://localhost:8080/"
        },
        "outputId": "71c5ada0-54d5-4ada-b95f-ef40034c9a4d"
      },
      "source": [
        "#ANOVA for the sum of residuals\r\n",
        "#this is what you are required\r\n",
        "y_bar = np.mean(Y)\r\n",
        "\r\n",
        "SSR = np.linalg.norm(y_predict - y_bar) ** 2\r\n",
        "SSE = np.linalg.norm(y_predict - y_test) ** 2\r\n",
        "\r\n",
        "MSR = SSR / p\r\n",
        "MSE = SSE / (n-p-1)\r\n",
        "\r\n",
        "F = MSR/MSE\r\n",
        "\r\n",
        "#p_value = 1 - f.cdf(F, p, n-p-1)\r\n",
        "\r\n",
        "p_value = f.sf(F, p, n-p-1)\r\n",
        "\r\n",
        "print('SSR: %.8f' % SSR)\r\n",
        "print('SSE: %.8f' % SSE)\r\n",
        "print('MSR: %.8f' % MSR)\r\n",
        "print('MSE: %.8f' % MSE)\r\n",
        "\r\n",
        "print('F value: %.8f' % F)\r\n",
        "print('p-value: %.8f' % p_value)"
      ],
      "execution_count": 106,
      "outputs": [
        {
          "output_type": "stream",
          "text": [
            "SSR: 1774.23898603\n",
            "SSE: 415.96940649\n",
            "MSR: 177.42389860\n",
            "MSE: 0.96512623\n",
            "F value: 183.83491455\n",
            "p-value: 0.00000000\n"
          ],
          "name": "stdout"
        }
      ]
    }
  ]
}